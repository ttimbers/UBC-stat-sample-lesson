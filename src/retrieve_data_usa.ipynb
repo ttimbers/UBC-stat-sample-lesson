{
 "cells": [
  {
   "cell_type": "markdown",
   "metadata": {},
   "source": [
    "## Download data for income and housing from [Data USA](https://datausa.io/)\n",
    "https://datausa.io/"
   ]
  },
  {
   "cell_type": "code",
   "execution_count": 1,
   "metadata": {
    "collapsed": true
   },
   "outputs": [],
   "source": [
    "#import library to query Data USA (https://datausa.io/)\n",
    "import requests\n",
    "\n",
    "#import pandas (so we can make a data frame and write to .csv)\n",
    "import pandas as pd\n",
    "\n",
    "# import libraries and use magic for plotting\n",
    "import matplotlib.pyplot as plt\n",
    "%matplotlib inline"
   ]
  },
  {
   "cell_type": "code",
   "execution_count": 2,
   "metadata": {
    "collapsed": false
   },
   "outputs": [],
   "source": [
    "# get property data from state level for 2015\n",
    "prop_url = \"http://api.datausa.io/api/?show=geo&sumlevel=state&required=income,median_property_value,pop,mean_commute_minutes,owner_occupied_housing_units,non_eng_speakers_pct&year=2015\"\n",
    "prop_json = requests.get(prop_url).json()\n",
    "prop_data = [dict(zip(prop_json[\"headers\"], d)) for d in prop_json[\"data\"]]"
   ]
  },
  {
   "cell_type": "code",
   "execution_count": 3,
   "metadata": {
    "collapsed": false
   },
   "outputs": [
    {
     "data": {
      "text/html": [
       "<div>\n",
       "<table border=\"1\" class=\"dataframe\">\n",
       "  <thead>\n",
       "    <tr style=\"text-align: right;\">\n",
       "      <th></th>\n",
       "      <th>id</th>\n",
       "      <th>income</th>\n",
       "      <th>mean_commute_minutes</th>\n",
       "      <th>median_property_value</th>\n",
       "      <th>non_eng_speakers_pct</th>\n",
       "      <th>owner_occupied_housing_units</th>\n",
       "      <th>pop</th>\n",
       "      <th>year</th>\n",
       "    </tr>\n",
       "  </thead>\n",
       "  <tbody>\n",
       "    <tr>\n",
       "      <th>0</th>\n",
       "      <td>04000US02</td>\n",
       "      <td>72515.0</td>\n",
       "      <td>18.1625</td>\n",
       "      <td>250000.0</td>\n",
       "      <td>0.161961</td>\n",
       "      <td>0.633768</td>\n",
       "      <td>733375</td>\n",
       "      <td>2015</td>\n",
       "    </tr>\n",
       "    <tr>\n",
       "      <th>1</th>\n",
       "      <td>04000US01</td>\n",
       "      <td>43623.0</td>\n",
       "      <td>23.6796</td>\n",
       "      <td>125500.0</td>\n",
       "      <td>0.051932</td>\n",
       "      <td>0.686646</td>\n",
       "      <td>4830620</td>\n",
       "      <td>2015</td>\n",
       "    </tr>\n",
       "    <tr>\n",
       "      <th>2</th>\n",
       "      <td>04000US05</td>\n",
       "      <td>41371.0</td>\n",
       "      <td>20.9376</td>\n",
       "      <td>111400.0</td>\n",
       "      <td>0.072253</td>\n",
       "      <td>0.661068</td>\n",
       "      <td>2958208</td>\n",
       "      <td>2015</td>\n",
       "    </tr>\n",
       "    <tr>\n",
       "      <th>3</th>\n",
       "      <td>04000US04</td>\n",
       "      <td>50255.0</td>\n",
       "      <td>23.4306</td>\n",
       "      <td>167500.0</td>\n",
       "      <td>0.269232</td>\n",
       "      <td>0.627582</td>\n",
       "      <td>6641928</td>\n",
       "      <td>2015</td>\n",
       "    </tr>\n",
       "    <tr>\n",
       "      <th>4</th>\n",
       "      <td>04000US06</td>\n",
       "      <td>61818.0</td>\n",
       "      <td>26.4598</td>\n",
       "      <td>385500.0</td>\n",
       "      <td>0.439091</td>\n",
       "      <td>0.543268</td>\n",
       "      <td>38421464</td>\n",
       "      <td>2015</td>\n",
       "    </tr>\n",
       "  </tbody>\n",
       "</table>\n",
       "</div>"
      ],
      "text/plain": [
       "          id   income  mean_commute_minutes  median_property_value  \\\n",
       "0  04000US02  72515.0               18.1625               250000.0   \n",
       "1  04000US01  43623.0               23.6796               125500.0   \n",
       "2  04000US05  41371.0               20.9376               111400.0   \n",
       "3  04000US04  50255.0               23.4306               167500.0   \n",
       "4  04000US06  61818.0               26.4598               385500.0   \n",
       "\n",
       "   non_eng_speakers_pct  owner_occupied_housing_units       pop  year  \n",
       "0              0.161961                      0.633768    733375  2015  \n",
       "1              0.051932                      0.686646   4830620  2015  \n",
       "2              0.072253                      0.661068   2958208  2015  \n",
       "3              0.269232                      0.627582   6641928  2015  \n",
       "4              0.439091                      0.543268  38421464  2015  "
      ]
     },
     "execution_count": 3,
     "metadata": {},
     "output_type": "execute_result"
    }
   ],
   "source": [
    "# make a data frame\n",
    "prop_datadf = pd.DataFrame(prop_data)\n",
    "prop_datadf.rename(columns={'geo': 'id'}, inplace=True)\n",
    "prop_datadf.head()"
   ]
  },
  {
   "cell_type": "code",
   "execution_count": 4,
   "metadata": {
    "collapsed": true
   },
   "outputs": [],
   "source": [
    "# get location names for state level\n",
    "geo_url = \"https://api.datausa.io/attrs/geo/?show=geo&sumlevel=state\"\n",
    "geo_json = requests.get(geo_url).json()\n",
    "geo_data = [dict(zip(geo_json[\"headers\"], d)) for d in geo_json[\"data\"]]"
   ]
  },
  {
   "cell_type": "code",
   "execution_count": 5,
   "metadata": {
    "collapsed": false
   },
   "outputs": [
    {
     "data": {
      "text/html": [
       "<div>\n",
       "<table border=\"1\" class=\"dataframe\">\n",
       "  <thead>\n",
       "    <tr style=\"text-align: right;\">\n",
       "      <th></th>\n",
       "      <th>display_name</th>\n",
       "      <th>id</th>\n",
       "      <th>image_author</th>\n",
       "      <th>image_link</th>\n",
       "      <th>image_meta</th>\n",
       "      <th>name</th>\n",
       "      <th>name_long</th>\n",
       "      <th>sumlevel</th>\n",
       "      <th>url_name</th>\n",
       "    </tr>\n",
       "  </thead>\n",
       "  <tbody>\n",
       "    <tr>\n",
       "      <th>0</th>\n",
       "      <td>Texas</td>\n",
       "      <td>04000US48</td>\n",
       "      <td>Corbet Ratcliff</td>\n",
       "      <td>https://flic.kr/p/brgaa9</td>\n",
       "      <td>A Texas longhorn in Latexo, Texas</td>\n",
       "      <td>Texas</td>\n",
       "      <td>Texas</td>\n",
       "      <td>040</td>\n",
       "      <td>texas</td>\n",
       "    </tr>\n",
       "    <tr>\n",
       "      <th>1</th>\n",
       "      <td>Pennsylvania</td>\n",
       "      <td>04000US42</td>\n",
       "      <td>Alex</td>\n",
       "      <td>https://flic.kr/p/8MY3vg</td>\n",
       "      <td>Farm, hills and grasslands in rural Pennsylvania.</td>\n",
       "      <td>Pennsylvania</td>\n",
       "      <td>Pennsylvania</td>\n",
       "      <td>040</td>\n",
       "      <td>pennsylvania</td>\n",
       "    </tr>\n",
       "    <tr>\n",
       "      <th>2</th>\n",
       "      <td>South Carolina</td>\n",
       "      <td>04000US45</td>\n",
       "      <td>Alacrity1980</td>\n",
       "      <td>https://flic.kr/p/7pK9Xt</td>\n",
       "      <td>Sunset over The Battery and a row of Palmetto ...</td>\n",
       "      <td>South Carolina</td>\n",
       "      <td>South Carolina</td>\n",
       "      <td>040</td>\n",
       "      <td>south-carolina</td>\n",
       "    </tr>\n",
       "    <tr>\n",
       "      <th>3</th>\n",
       "      <td>New Hampshire</td>\n",
       "      <td>04000US33</td>\n",
       "      <td>Nicholas Erwin</td>\n",
       "      <td>https://flic.kr/p/e4P4bv</td>\n",
       "      <td>Mt Washington, part of the presidential range ...</td>\n",
       "      <td>New Hampshire</td>\n",
       "      <td>New Hampshire</td>\n",
       "      <td>040</td>\n",
       "      <td>new-hampshire</td>\n",
       "    </tr>\n",
       "    <tr>\n",
       "      <th>4</th>\n",
       "      <td>Kansas</td>\n",
       "      <td>04000US20</td>\n",
       "      <td>Garett Gabriel</td>\n",
       "      <td>https://flic.kr/p/b2DTAn</td>\n",
       "      <td>None</td>\n",
       "      <td>Kansas</td>\n",
       "      <td>Kansas</td>\n",
       "      <td>040</td>\n",
       "      <td>kansas</td>\n",
       "    </tr>\n",
       "  </tbody>\n",
       "</table>\n",
       "</div>"
      ],
      "text/plain": [
       "     display_name         id     image_author                image_link  \\\n",
       "0           Texas  04000US48  Corbet Ratcliff  https://flic.kr/p/brgaa9   \n",
       "1    Pennsylvania  04000US42             Alex  https://flic.kr/p/8MY3vg   \n",
       "2  South Carolina  04000US45     Alacrity1980  https://flic.kr/p/7pK9Xt   \n",
       "3   New Hampshire  04000US33   Nicholas Erwin  https://flic.kr/p/e4P4bv   \n",
       "4          Kansas  04000US20   Garett Gabriel  https://flic.kr/p/b2DTAn   \n",
       "\n",
       "                                          image_meta            name  \\\n",
       "0                  A Texas longhorn in Latexo, Texas           Texas   \n",
       "1  Farm, hills and grasslands in rural Pennsylvania.    Pennsylvania   \n",
       "2  Sunset over The Battery and a row of Palmetto ...  South Carolina   \n",
       "3  Mt Washington, part of the presidential range ...   New Hampshire   \n",
       "4                                               None          Kansas   \n",
       "\n",
       "        name_long sumlevel        url_name  \n",
       "0           Texas      040           texas  \n",
       "1    Pennsylvania      040    pennsylvania  \n",
       "2  South Carolina      040  south-carolina  \n",
       "3   New Hampshire      040   new-hampshire  \n",
       "4          Kansas      040          kansas  "
      ]
     },
     "execution_count": 5,
     "metadata": {},
     "output_type": "execute_result"
    }
   ],
   "source": [
    "# make a data frame\n",
    "geo_datadf = pd.DataFrame(geo_data)\n",
    "geo_datadf.head()"
   ]
  },
  {
   "cell_type": "code",
   "execution_count": 6,
   "metadata": {
    "collapsed": false
   },
   "outputs": [],
   "source": [
    "# merge datasets to get state names\n",
    "indexed_prop = prop_datadf.set_index(['id'])\n",
    "indexed_geo = geo_datadf.set_index(['id'])"
   ]
  },
  {
   "cell_type": "code",
   "execution_count": 7,
   "metadata": {
    "collapsed": false
   },
   "outputs": [
    {
     "data": {
      "text/html": [
       "<div>\n",
       "<table border=\"1\" class=\"dataframe\">\n",
       "  <thead>\n",
       "    <tr style=\"text-align: right;\">\n",
       "      <th></th>\n",
       "      <th>income</th>\n",
       "      <th>mean_commute_minutes</th>\n",
       "      <th>median_property_value</th>\n",
       "      <th>non_eng_speakers_pct</th>\n",
       "      <th>owner_occupied_housing_units</th>\n",
       "      <th>pop</th>\n",
       "      <th>year</th>\n",
       "    </tr>\n",
       "    <tr>\n",
       "      <th>display_name</th>\n",
       "      <th></th>\n",
       "      <th></th>\n",
       "      <th></th>\n",
       "      <th></th>\n",
       "      <th></th>\n",
       "      <th></th>\n",
       "      <th></th>\n",
       "    </tr>\n",
       "  </thead>\n",
       "  <tbody>\n",
       "    <tr>\n",
       "      <th>Texas</th>\n",
       "      <td>53207.0</td>\n",
       "      <td>24.5090</td>\n",
       "      <td>136000.0</td>\n",
       "      <td>0.350348</td>\n",
       "      <td>0.622325</td>\n",
       "      <td>26538614</td>\n",
       "      <td>2015</td>\n",
       "    </tr>\n",
       "    <tr>\n",
       "      <th>Pennsylvania</th>\n",
       "      <td>53599.0</td>\n",
       "      <td>25.2695</td>\n",
       "      <td>166000.0</td>\n",
       "      <td>0.106482</td>\n",
       "      <td>0.692052</td>\n",
       "      <td>12779559</td>\n",
       "      <td>2015</td>\n",
       "    </tr>\n",
       "    <tr>\n",
       "      <th>South Carolina</th>\n",
       "      <td>45483.0</td>\n",
       "      <td>23.0552</td>\n",
       "      <td>139900.0</td>\n",
       "      <td>0.068677</td>\n",
       "      <td>0.685914</td>\n",
       "      <td>4777576</td>\n",
       "      <td>2015</td>\n",
       "    </tr>\n",
       "    <tr>\n",
       "      <th>New Hampshire</th>\n",
       "      <td>66779.0</td>\n",
       "      <td>25.2973</td>\n",
       "      <td>237300.0</td>\n",
       "      <td>0.078682</td>\n",
       "      <td>0.709609</td>\n",
       "      <td>1324201</td>\n",
       "      <td>2015</td>\n",
       "    </tr>\n",
       "    <tr>\n",
       "      <th>Kansas</th>\n",
       "      <td>52205.0</td>\n",
       "      <td>18.2779</td>\n",
       "      <td>132000.0</td>\n",
       "      <td>0.113053</td>\n",
       "      <td>0.666891</td>\n",
       "      <td>2892987</td>\n",
       "      <td>2015</td>\n",
       "    </tr>\n",
       "  </tbody>\n",
       "</table>\n",
       "</div>"
      ],
      "text/plain": [
       "                 income  mean_commute_minutes  median_property_value  \\\n",
       "display_name                                                           \n",
       "Texas           53207.0               24.5090               136000.0   \n",
       "Pennsylvania    53599.0               25.2695               166000.0   \n",
       "South Carolina  45483.0               23.0552               139900.0   \n",
       "New Hampshire   66779.0               25.2973               237300.0   \n",
       "Kansas          52205.0               18.2779               132000.0   \n",
       "\n",
       "                non_eng_speakers_pct  owner_occupied_housing_units       pop  \\\n",
       "display_name                                                                   \n",
       "Texas                       0.350348                      0.622325  26538614   \n",
       "Pennsylvania                0.106482                      0.692052  12779559   \n",
       "South Carolina              0.068677                      0.685914   4777576   \n",
       "New Hampshire               0.078682                      0.709609   1324201   \n",
       "Kansas                      0.113053                      0.666891   2892987   \n",
       "\n",
       "                year  \n",
       "display_name          \n",
       "Texas           2015  \n",
       "Pennsylvania    2015  \n",
       "South Carolina  2015  \n",
       "New Hampshire   2015  \n",
       "Kansas          2015  "
      ]
     },
     "execution_count": 7,
     "metadata": {},
     "output_type": "execute_result"
    }
   ],
   "source": [
    "indexed_geo = indexed_geo[['display_name']]\n",
    "merged_dfs = pd.merge(indexed_prop, indexed_geo, left_index=True, right_index=True)\n",
    "merged_dfs.set_index('display_name', inplace=True)\n",
    "merged_dfs.head()"
   ]
  },
  {
   "cell_type": "code",
   "execution_count": 8,
   "metadata": {
    "collapsed": true
   },
   "outputs": [],
   "source": [
    "# write to csv\n",
    "merged_dfs.to_csv('acs_data.csv')"
   ]
  },
  {
   "cell_type": "code",
   "execution_count": 9,
   "metadata": {
    "collapsed": false,
    "scrolled": true
   },
   "outputs": [
    {
     "data": {
      "text/plain": [
       "<matplotlib.axes._subplots.AxesSubplot at 0x112b63080>"
      ]
     },
     "execution_count": 9,
     "metadata": {},
     "output_type": "execute_result"
    },
    {
     "data": {
      "image/png": "[encoded data removed]",
      "text/plain": [
       "<matplotlib.figure.Figure at 0x112b36f28>"
      ]
     },
     "metadata": {},
     "output_type": "display_data"
    }
   ],
   "source": [
    "# Explore property data via scatter plots\n",
    "prop_datadf.plot.scatter('income', 'median_property_value')"
   ]
  },
  {
   "cell_type": "code",
   "execution_count": 10,
   "metadata": {
    "collapsed": false
   },
   "outputs": [
    {
     "data": {
      "text/plain": [
       "<matplotlib.axes._subplots.AxesSubplot at 0x1168ed668>"
      ]
     },
     "execution_count": 10,
     "metadata": {},
     "output_type": "execute_result"
    },
    {
     "data": {
      "image/png": "[encoded data removed]",
      "text/plain": [
       "<matplotlib.figure.Figure at 0x1168f9898>"
      ]
     },
     "metadata": {},
     "output_type": "display_data"
    }
   ],
   "source": [
    "prop_datadf.plot.scatter('mean_commute_minutes', 'median_property_value')"
   ]
  },
  {
   "cell_type": "code",
   "execution_count": 11,
   "metadata": {
    "collapsed": false
   },
   "outputs": [
    {
     "data": {
      "text/plain": [
       "<matplotlib.axes._subplots.AxesSubplot at 0x1169b4320>"
      ]
     },
     "execution_count": 11,
     "metadata": {},
     "output_type": "execute_result"
    },
    {
     "data": {
      "image/png": "[encoded data removed]",
      "text/plain": [
       "<matplotlib.figure.Figure at 0x1169bddd8>"
      ]
     },
     "metadata": {},
     "output_type": "display_data"
    }
   ],
   "source": [
    "prop_datadf.plot.scatter('non_eng_speakers_pct', 'median_property_value')"
   ]
  },
  {
   "cell_type": "code",
   "execution_count": 12,
   "metadata": {
    "collapsed": false,
    "scrolled": true
   },
   "outputs": [
    {
     "data": {
      "text/plain": [
       "<matplotlib.axes._subplots.AxesSubplot at 0x116a3ab38>"
      ]
     },
     "execution_count": 12,
     "metadata": {},
     "output_type": "execute_result"
    },
    {
     "data": {
      "image/png": "[encoded data removed]",
      "text/plain": [
       "<matplotlib.figure.Figure at 0x116c40b38>"
      ]
     },
     "metadata": {},
     "output_type": "display_data"
    }
   ],
   "source": [
    "prop_datadf.plot.scatter('owner_occupied_housing_units', 'median_property_value')\n"
   ]
  },
  {
   "cell_type": "code",
   "execution_count": 13,
   "metadata": {
    "collapsed": false
   },
   "outputs": [
    {
     "data": {
      "text/plain": [
       "<matplotlib.axes._subplots.AxesSubplot at 0x116c6b208>"
      ]
     },
     "execution_count": 13,
     "metadata": {},
     "output_type": "execute_result"
    },
    {
     "data": {
      "image/png": "[encoded data removed]",
      "text/plain": [
       "<matplotlib.figure.Figure at 0x116d74748>"
      ]
     },
     "metadata": {},
     "output_type": "display_data"
    }
   ],
   "source": [
    "prop_datadf.plot.scatter('pop', 'median_property_value')"
   ]
  }
 ],
 "metadata": {
  "anaconda-cloud": {},
  "kernelspec": {
   "display_name": "Python [conda root]",
   "language": "python",
   "name": "conda-root-py"
  },
  "language_info": {
   "codemirror_mode": {
    "name": "ipython",
    "version": 3
   },
   "file_extension": ".py",
   "mimetype": "text/x-python",
   "name": "python",
   "nbconvert_exporter": "python",
   "pygments_lexer": "ipython3",
   "version": "3.5.1"
  }
 },
 "nbformat": 4,
 "nbformat_minor": 0
}
